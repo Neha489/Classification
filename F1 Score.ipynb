{
 "cells": [
  {
   "cell_type": "code",
   "execution_count": 1,
   "id": "5cc42084",
   "metadata": {},
   "outputs": [],
   "source": [
    "import numpy as np\n",
    "import pandas as pd"
   ]
  },
  {
   "cell_type": "code",
   "execution_count": 2,
   "id": "117fe85c",
   "metadata": {},
   "outputs": [
    {
     "data": {
      "text/html": [
       "<div>\n",
       "<style scoped>\n",
       "    .dataframe tbody tr th:only-of-type {\n",
       "        vertical-align: middle;\n",
       "    }\n",
       "\n",
       "    .dataframe tbody tr th {\n",
       "        vertical-align: top;\n",
       "    }\n",
       "\n",
       "    .dataframe thead th {\n",
       "        text-align: right;\n",
       "    }\n",
       "</style>\n",
       "<table border=\"1\" class=\"dataframe\">\n",
       "  <thead>\n",
       "    <tr style=\"text-align: right;\">\n",
       "      <th></th>\n",
       "      <th>time_on_page</th>\n",
       "      <th>pages_viewed</th>\n",
       "      <th>interest_ski</th>\n",
       "      <th>interest_climb</th>\n",
       "      <th>buy</th>\n",
       "    </tr>\n",
       "  </thead>\n",
       "  <tbody>\n",
       "    <tr>\n",
       "      <th>0</th>\n",
       "      <td>282.0</td>\n",
       "      <td>3.0</td>\n",
       "      <td>0</td>\n",
       "      <td>1</td>\n",
       "      <td>1</td>\n",
       "    </tr>\n",
       "    <tr>\n",
       "      <th>1</th>\n",
       "      <td>223.0</td>\n",
       "      <td>3.0</td>\n",
       "      <td>0</td>\n",
       "      <td>1</td>\n",
       "      <td>1</td>\n",
       "    </tr>\n",
       "    <tr>\n",
       "      <th>2</th>\n",
       "      <td>285.0</td>\n",
       "      <td>3.0</td>\n",
       "      <td>1</td>\n",
       "      <td>1</td>\n",
       "      <td>1</td>\n",
       "    </tr>\n",
       "    <tr>\n",
       "      <th>3</th>\n",
       "      <td>250.0</td>\n",
       "      <td>3.0</td>\n",
       "      <td>0</td>\n",
       "      <td>1</td>\n",
       "      <td>1</td>\n",
       "    </tr>\n",
       "    <tr>\n",
       "      <th>4</th>\n",
       "      <td>271.0</td>\n",
       "      <td>2.0</td>\n",
       "      <td>1</td>\n",
       "      <td>1</td>\n",
       "      <td>1</td>\n",
       "    </tr>\n",
       "  </tbody>\n",
       "</table>\n",
       "</div>"
      ],
      "text/plain": [
       "   time_on_page  pages_viewed  interest_ski  interest_climb  buy\n",
       "0         282.0           3.0             0               1    1\n",
       "1         223.0           3.0             0               1    1\n",
       "2         285.0           3.0             1               1    1\n",
       "3         250.0           3.0             0               1    1\n",
       "4         271.0           2.0             1               1    1"
      ]
     },
     "execution_count": 2,
     "metadata": {},
     "output_type": "execute_result"
    }
   ],
   "source": [
    "df = pd.read_csv(\"https://raw.githubusercontent.com/JoosKorstanje/datasets/main/sales_data.csv\")\n",
    "df.head()"
   ]
  },
  {
   "cell_type": "code",
   "execution_count": 3,
   "id": "caf83f46",
   "metadata": {},
   "outputs": [
    {
     "data": {
      "text/html": [
       "<div>\n",
       "<style scoped>\n",
       "    .dataframe tbody tr th:only-of-type {\n",
       "        vertical-align: middle;\n",
       "    }\n",
       "\n",
       "    .dataframe tbody tr th {\n",
       "        vertical-align: top;\n",
       "    }\n",
       "\n",
       "    .dataframe thead th {\n",
       "        text-align: right;\n",
       "    }\n",
       "</style>\n",
       "<table border=\"1\" class=\"dataframe\">\n",
       "  <thead>\n",
       "    <tr style=\"text-align: right;\">\n",
       "      <th></th>\n",
       "      <th>time_on_page</th>\n",
       "      <th>pages_viewed</th>\n",
       "      <th>interest_ski</th>\n",
       "      <th>interest_climb</th>\n",
       "      <th>buy</th>\n",
       "    </tr>\n",
       "  </thead>\n",
       "  <tbody>\n",
       "    <tr>\n",
       "      <th>0</th>\n",
       "      <td>282.0</td>\n",
       "      <td>3.0</td>\n",
       "      <td>0</td>\n",
       "      <td>1</td>\n",
       "      <td>1</td>\n",
       "    </tr>\n",
       "    <tr>\n",
       "      <th>1</th>\n",
       "      <td>223.0</td>\n",
       "      <td>3.0</td>\n",
       "      <td>0</td>\n",
       "      <td>1</td>\n",
       "      <td>1</td>\n",
       "    </tr>\n",
       "    <tr>\n",
       "      <th>2</th>\n",
       "      <td>285.0</td>\n",
       "      <td>3.0</td>\n",
       "      <td>1</td>\n",
       "      <td>1</td>\n",
       "      <td>1</td>\n",
       "    </tr>\n",
       "    <tr>\n",
       "      <th>3</th>\n",
       "      <td>250.0</td>\n",
       "      <td>3.0</td>\n",
       "      <td>0</td>\n",
       "      <td>1</td>\n",
       "      <td>1</td>\n",
       "    </tr>\n",
       "    <tr>\n",
       "      <th>4</th>\n",
       "      <td>271.0</td>\n",
       "      <td>2.0</td>\n",
       "      <td>1</td>\n",
       "      <td>1</td>\n",
       "      <td>1</td>\n",
       "    </tr>\n",
       "    <tr>\n",
       "      <th>...</th>\n",
       "      <td>...</td>\n",
       "      <td>...</td>\n",
       "      <td>...</td>\n",
       "      <td>...</td>\n",
       "      <td>...</td>\n",
       "    </tr>\n",
       "    <tr>\n",
       "      <th>995</th>\n",
       "      <td>171.0</td>\n",
       "      <td>2.0</td>\n",
       "      <td>0</td>\n",
       "      <td>0</td>\n",
       "      <td>0</td>\n",
       "    </tr>\n",
       "    <tr>\n",
       "      <th>996</th>\n",
       "      <td>101.0</td>\n",
       "      <td>2.0</td>\n",
       "      <td>1</td>\n",
       "      <td>1</td>\n",
       "      <td>0</td>\n",
       "    </tr>\n",
       "    <tr>\n",
       "      <th>997</th>\n",
       "      <td>260.0</td>\n",
       "      <td>3.0</td>\n",
       "      <td>0</td>\n",
       "      <td>0</td>\n",
       "      <td>0</td>\n",
       "    </tr>\n",
       "    <tr>\n",
       "      <th>998</th>\n",
       "      <td>208.0</td>\n",
       "      <td>3.0</td>\n",
       "      <td>0</td>\n",
       "      <td>1</td>\n",
       "      <td>0</td>\n",
       "    </tr>\n",
       "    <tr>\n",
       "      <th>999</th>\n",
       "      <td>134.0</td>\n",
       "      <td>2.0</td>\n",
       "      <td>0</td>\n",
       "      <td>1</td>\n",
       "      <td>0</td>\n",
       "    </tr>\n",
       "  </tbody>\n",
       "</table>\n",
       "<p>1000 rows × 5 columns</p>\n",
       "</div>"
      ],
      "text/plain": [
       "     time_on_page  pages_viewed  interest_ski  interest_climb  buy\n",
       "0           282.0           3.0             0               1    1\n",
       "1           223.0           3.0             0               1    1\n",
       "2           285.0           3.0             1               1    1\n",
       "3           250.0           3.0             0               1    1\n",
       "4           271.0           2.0             1               1    1\n",
       "..            ...           ...           ...             ...  ...\n",
       "995         171.0           2.0             0               0    0\n",
       "996         101.0           2.0             1               1    0\n",
       "997         260.0           3.0             0               0    0\n",
       "998         208.0           3.0             0               1    0\n",
       "999         134.0           2.0             0               1    0\n",
       "\n",
       "[1000 rows x 5 columns]"
      ]
     },
     "execution_count": 3,
     "metadata": {},
     "output_type": "execute_result"
    }
   ],
   "source": [
    "df"
   ]
  },
  {
   "cell_type": "code",
   "execution_count": 4,
   "id": "3fd0f122",
   "metadata": {},
   "outputs": [
    {
     "data": {
      "text/plain": [
       "0    950\n",
       "1     50\n",
       "Name: buy, dtype: int64"
      ]
     },
     "execution_count": 4,
     "metadata": {},
     "output_type": "execute_result"
    }
   ],
   "source": [
    "df['buy'].value_counts()"
   ]
  },
  {
   "cell_type": "code",
   "execution_count": 5,
   "id": "900734b6",
   "metadata": {},
   "outputs": [
    {
     "data": {
      "text/plain": [
       "<AxesSubplot: title={'center': 'Class distribution'}, xlabel='buy'>"
      ]
     },
     "execution_count": 5,
     "metadata": {},
     "output_type": "execute_result"
    },
    {
     "data": {
      "image/png": "[encoded data removed]",
      "text/plain": [
       "<Figure size 432x288 with 1 Axes>"
      ]
     },
     "metadata": {
      "needs_background": "light"
     },
     "output_type": "display_data"
    }
   ],
   "source": [
    "df.pivot_table(index='buy', aggfunc='size').plot(kind='bar',title='Class distribution')"
   ]
  },
  {
   "cell_type": "markdown",
   "id": "8eb880cf",
   "metadata": {},
   "source": [
    "#### You can see here that there are very few buyers compared to the other visitors."
   ]
  },
  {
   "cell_type": "markdown",
   "id": "092d40ce",
   "metadata": {},
   "source": [
    "### applying train test stratified Because our class is imbalanced"
   ]
  },
  {
   "cell_type": "markdown",
   "id": "55bb72a7",
   "metadata": {},
   "source": [
    "Stratified sampling is a sampling method that avoids disturbing class balance in your samples. It allows you to generate a \n",
    "train and a test set with the exact same class balance as in the original data."
   ]
  },
  {
   "cell_type": "code",
   "execution_count": 6,
   "id": "fffef02b",
   "metadata": {},
   "outputs": [],
   "source": [
    "from sklearn.model_selection import train_test_split\n",
    "train, test = train_test_split(df, test_size=0.3, stratify=df.buy)"
   ]
  },
  {
   "cell_type": "code",
   "execution_count": 7,
   "id": "fdc66b73",
   "metadata": {},
   "outputs": [
    {
     "data": {
      "text/plain": [
       "<AxesSubplot: title={'center': 'Class distribution'}, xlabel='buy'>"
      ]
     },
     "execution_count": 7,
     "metadata": {},
     "output_type": "execute_result"
    },
    {
     "data": {
      "image/png": "[encoded data removed]",
      "text/plain": [
       "<Figure size 432x288 with 1 Axes>"
      ]
     },
     "metadata": {
      "needs_background": "light"
     },
     "output_type": "display_data"
    }
   ],
   "source": [
    "# we can see train test distribution in bar chart\n",
    "train.pivot_table(index='buy', aggfunc='size').plot(kind='bar',title='Class distribution')"
   ]
  },
  {
   "cell_type": "code",
   "execution_count": 8,
   "id": "39853f7a",
   "metadata": {},
   "outputs": [
    {
     "data": {
      "text/plain": [
       "<AxesSubplot: title={'center': 'Class distribution'}, xlabel='buy'>"
      ]
     },
     "execution_count": 8,
     "metadata": {},
     "output_type": "execute_result"
    },
    {
     "data": {
      "image/png": "[encoded data removed]",
      "text/plain": [
       "<Figure size 432x288 with 1 Axes>"
      ]
     },
     "metadata": {
      "needs_background": "light"
     },
     "output_type": "display_data"
    }
   ],
   "source": [
    "test.pivot_table(index='buy', aggfunc='size').plot(kind='bar',title='Class distribution')"
   ]
  },
  {
   "cell_type": "markdown",
   "id": "84322be9",
   "metadata": {},
   "source": [
    "## A baseline model"
   ]
  },
  {
   "cell_type": "code",
   "execution_count": 9,
   "id": "25383767",
   "metadata": {},
   "outputs": [],
   "source": [
    "# this very bad model predicts that nobody ever buys anything\n",
    "preds = [0] * len(test)"
   ]
  },
  {
   "cell_type": "code",
   "execution_count": 10,
   "id": "a55f881d",
   "metadata": {},
   "outputs": [
    {
     "data": {
      "text/plain": [
       "0.95"
      ]
     },
     "execution_count": 10,
     "metadata": {},
     "output_type": "execute_result"
    }
   ],
   "source": [
    "from sklearn.metrics import accuracy_score\n",
    "accuracy_score(test.buy, preds)"
   ]
  },
  {
   "cell_type": "markdown",
   "id": "8b991469",
   "metadata": {},
   "source": [
    "accuracy of this baseline model is surprisingly very good, it predicts that nobody buys anything. Therefore, it is wrong only \n",
    "for the buyers(5% of the data set)."
   ]
  },
  {
   "cell_type": "markdown",
   "id": "f7587cba",
   "metadata": {},
   "source": [
    "As a baseline model, we will create a very bad model that predicts that nobody buys anything. This comes down to generating a \n",
    "list of predictions that are all 0."
   ]
  },
  {
   "cell_type": "code",
   "execution_count": 11,
   "id": "e402d063",
   "metadata": {},
   "outputs": [],
   "source": [
    "# now checking precision and recall"
   ]
  },
  {
   "cell_type": "code",
   "execution_count": 12,
   "id": "6ecaf61e",
   "metadata": {},
   "outputs": [
    {
     "name": "stdout",
     "output_type": "stream",
     "text": [
      "Precision is : 0.0\n",
      "Recall is : 0.0\n"
     ]
    },
    {
     "name": "stderr",
     "output_type": "stream",
     "text": [
      "C:\\Users\\Aspire 5\\anaconda3\\lib\\site-packages\\sklearn\\metrics\\_classification.py:1318: UndefinedMetricWarning: Precision is ill-defined and being set to 0.0 due to no predicted samples. Use `zero_division` parameter to control this behavior.\n",
      "  _warn_prf(average, modifier, msg_start, len(result))\n"
     ]
    }
   ],
   "source": [
    "from sklearn.metrics import precision_score, recall_score\n",
    "print('Precision is :',precision_score(test.buy, preds))\n",
    "print('Recall is :',recall_score(test.buy, preds))"
   ]
  },
  {
   "cell_type": "markdown",
   "id": "e2a98baa",
   "metadata": {},
   "source": [
    "Precision will tell you the percentage of correctly predicted buyers as a percentage of the total number of predicted buyers. \n",
    "In this very bad model, not a single person was identified as a buyer and the Precision is therefore 0"
   ]
  },
  {
   "cell_type": "markdown",
   "id": "ec926316",
   "metadata": {},
   "source": [
    "Recall, on the other hand, tells you the percentage of buyers that you have been able to find within all of the actual buyers. \n",
    "Since your model has not found a single buyer, Recall is also 0"
   ]
  },
  {
   "cell_type": "code",
   "execution_count": 13,
   "id": "2e508953",
   "metadata": {},
   "outputs": [],
   "source": [
    "## Let's see what the resulting F1 score is:"
   ]
  },
  {
   "cell_type": "code",
   "execution_count": 14,
   "id": "1250832c",
   "metadata": {},
   "outputs": [
    {
     "name": "stdout",
     "output_type": "stream",
     "text": [
      "F1 score is : 0.0\n"
     ]
    }
   ],
   "source": [
    "from sklearn.metrics import f1_score\n",
    "print('F1 score is :', f1_score(test.buy, preds))"
   ]
  },
  {
   "cell_type": "markdown",
   "id": "fd248948",
   "metadata": {},
   "source": [
    "The result is not surprising. As the F1 score is the harmonic mean of precision and recall, the F1 score is also 0."
   ]
  },
  {
   "cell_type": "markdown",
   "id": "7b23ee55",
   "metadata": {},
   "source": [
    "#### This model in this example was not an intelligent model at all. Yet the example shows that it can be very dangerous to use accuracy as a metric on imbalanced data sets. This model is really not performant at all and a performance evaluation of 0 would be the only fair evaluation. Precision, recall, and the F1-score have all proven to be much better cases in this example."
   ]
  },
  {
   "cell_type": "code",
   "execution_count": 15,
   "id": "97ccbdf4",
   "metadata": {},
   "outputs": [],
   "source": [
    "# Let's use logistic Regression algorithm"
   ]
  },
  {
   "cell_type": "code",
   "execution_count": 16,
   "id": "99be896f",
   "metadata": {},
   "outputs": [],
   "source": [
    "from sklearn.linear_model import LogisticRegression\n",
    "\n",
    "log_reg = LogisticRegression()\n",
    "\n",
    "# fit the logistic regression on the independent variables of the train data with buy as dependent variable\n",
    "log_reg.fit(train[['time_on_page','pages_viewed','interest_ski', 'interest_climb']], train['buy'])\n",
    "\n",
    "# Make a prediction using our model on the test set\n",
    "\n",
    "preds = log_reg.predict(test[['time_on_page','pages_viewed','interest_ski', 'interest_climb']])"
   ]
  },
  {
   "cell_type": "code",
   "execution_count": 17,
   "id": "a7687ce4",
   "metadata": {},
   "outputs": [
    {
     "name": "stdout",
     "output_type": "stream",
     "text": [
      "True negatives:  284 \n",
      "False positives:  1 \n",
      "False negatives:  10 \n",
      "True positives:  5\n"
     ]
    }
   ],
   "source": [
    "# Let's see the confusion metrics\n",
    "from sklearn.metrics import confusion_matrix\n",
    "tn, fp, fn, tp = confusion_matrix(test['buy'],preds).ravel()\n",
    "\n",
    "print('True negatives: ', tn, '\\nFalse positives: ', fp, '\\nFalse negatives: ', fn, '\\nTrue positives: ', tp)"
   ]
  },
  {
   "cell_type": "code",
   "execution_count": 18,
   "id": "e3e35c93",
   "metadata": {},
   "outputs": [
    {
     "name": "stdout",
     "output_type": "stream",
     "text": [
      "Accuracy is:  0.9633333333333334\n"
     ]
    }
   ],
   "source": [
    "# now check the accuracy score\n",
    "print('Accuracy is: ',accuracy_score(test.buy, preds))"
   ]
  },
  {
   "cell_type": "code",
   "execution_count": 19,
   "id": "c4a39463",
   "metadata": {},
   "outputs": [
    {
     "name": "stdout",
     "output_type": "stream",
     "text": [
      "Precision is:  0.8333333333333334\n",
      "Recall is:  0.3333333333333333\n"
     ]
    }
   ],
   "source": [
    "# Let's see what precision and recall says\n",
    "print('Precision is: ', precision_score(test.buy, preds))\n",
    "print('Recall is: ', recall_score(test.buy, preds))"
   ]
  },
  {
   "cell_type": "code",
   "execution_count": 20,
   "id": "d969fa8b",
   "metadata": {},
   "outputs": [
    {
     "name": "stdout",
     "output_type": "stream",
     "text": [
      "F1 Score is:  0.47619047619047616\n"
     ]
    }
   ],
   "source": [
    "# Let's check f1 score\n",
    "print('F1 Score is: ', f1_score(test.buy, preds))"
   ]
  },
  {
   "cell_type": "markdown",
   "id": "e1a0f1ad",
   "metadata": {},
   "source": [
    "The F1 score has been shown as a model performance metric. The F1 score becomes especially valuable when working on \n",
    "classification models in which your data set is imbalanced."
   ]
  },
  {
   "cell_type": "markdown",
   "id": "a451ad29",
   "metadata": {},
   "source": [
    "You have seen that the F1 score combines precision and recall into a single metric. This makes it easy to use in grid search \n",
    "or automated optimization"
   ]
  },
  {
   "cell_type": "code",
   "execution_count": null,
   "id": "4e8dc00a",
   "metadata": {},
   "outputs": [],
   "source": []
  }
 ],
 "metadata": {
  "kernelspec": {
   "display_name": "Python 3 (ipykernel)",
   "language": "python",
   "name": "python3"
  },
  "language_info": {
   "codemirror_mode": {
    "name": "ipython",
    "version": 3
   },
   "file_extension": ".py",
   "mimetype": "text/x-python",
   "name": "python",
   "nbconvert_exporter": "python",
   "pygments_lexer": "ipython3",
   "version": "3.9.12"
  }
 },
 "nbformat": 4,
 "nbformat_minor": 5
}
